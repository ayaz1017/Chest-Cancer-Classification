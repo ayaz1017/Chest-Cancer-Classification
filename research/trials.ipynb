{
 "cells": [
  {
   "metadata": {
    "ExecuteTime": {
     "end_time": "2025-07-06T09:36:33.879071Z",
     "start_time": "2025-07-06T09:36:33.872645Z"
    }
   },
   "cell_type": "code",
   "source": "d={\"key\":\"value\",\"key1\":\"value1\"}",
   "id": "190f773dfff5977b",
   "outputs": [],
   "execution_count": 1
  },
  {
   "metadata": {
    "ExecuteTime": {
     "end_time": "2025-07-06T09:36:33.986208Z",
     "start_time": "2025-07-06T09:36:33.977165Z"
    }
   },
   "cell_type": "code",
   "source": "d[\"key\"]",
   "id": "2eaa55a9a8525732",
   "outputs": [
    {
     "data": {
      "text/plain": [
       "'value'"
      ]
     },
     "execution_count": 2,
     "metadata": {},
     "output_type": "execute_result"
    }
   ],
   "execution_count": 2
  },
  {
   "metadata": {
    "ExecuteTime": {
     "end_time": "2025-07-06T09:37:13.366281Z",
     "start_time": "2025-07-06T09:37:13.361927Z"
    }
   },
   "cell_type": "code",
   "source": "print(d[\"key\"])\n",
   "id": "b26254768c9655ec",
   "outputs": [
    {
     "name": "stdout",
     "output_type": "stream",
     "text": [
      "value\n"
     ]
    }
   ],
   "execution_count": 3
  },
  {
   "metadata": {
    "ExecuteTime": {
     "end_time": "2025-07-06T09:37:34.177695Z",
     "start_time": "2025-07-06T09:37:34.081316Z"
    }
   },
   "cell_type": "code",
   "source": "from box import ConfigBox",
   "id": "12a0dfe963743541",
   "outputs": [],
   "execution_count": 4
  },
  {
   "metadata": {
    "ExecuteTime": {
     "end_time": "2025-07-06T09:38:05.390073Z",
     "start_time": "2025-07-06T09:38:05.380094Z"
    }
   },
   "cell_type": "code",
   "source": "d2={\"key\":\"value\",\"key1\":\"value1\"}",
   "id": "75e66e2a511745b8",
   "outputs": [],
   "execution_count": 5
  },
  {
   "metadata": {
    "ExecuteTime": {
     "end_time": "2025-07-06T09:38:20.667719Z",
     "start_time": "2025-07-06T09:38:20.651154Z"
    }
   },
   "cell_type": "code",
   "source": "ConfigBox(d2)",
   "id": "bda086047bc54299",
   "outputs": [
    {
     "data": {
      "text/plain": [
       "ConfigBox({'key': 'value', 'key1': 'value1'})"
      ]
     },
     "execution_count": 6,
     "metadata": {},
     "output_type": "execute_result"
    }
   ],
   "execution_count": 6
  },
  {
   "metadata": {
    "ExecuteTime": {
     "end_time": "2025-07-06T09:39:28.261587Z",
     "start_time": "2025-07-06T09:39:28.251116Z"
    }
   },
   "cell_type": "code",
   "source": [
    "def get_product(x:int,y:int):\n",
    "    return x*y"
   ],
   "id": "21e6da0464cb80b3",
   "outputs": [],
   "execution_count": 7
  },
  {
   "metadata": {
    "ExecuteTime": {
     "end_time": "2025-07-06T09:39:58.326529Z",
     "start_time": "2025-07-06T09:39:58.320855Z"
    }
   },
   "cell_type": "code",
   "source": "get_product(x=2, y=1)",
   "id": "cbfc20ac457af2ae",
   "outputs": [
    {
     "data": {
      "text/plain": [
       "2"
      ]
     },
     "execution_count": 10,
     "metadata": {},
     "output_type": "execute_result"
    }
   ],
   "execution_count": 10
  },
  {
   "metadata": {
    "ExecuteTime": {
     "end_time": "2025-07-06T09:40:30.534329Z",
     "start_time": "2025-07-06T09:40:30.512578Z"
    }
   },
   "cell_type": "code",
   "source": "from ensure import ensure_annotations",
   "id": "a8bda56036bc5e19",
   "outputs": [],
   "execution_count": 11
  },
  {
   "metadata": {
    "ExecuteTime": {
     "end_time": "2025-07-06T09:45:26.906199Z",
     "start_time": "2025-07-06T09:45:25.818800Z"
    }
   },
   "cell_type": "code",
   "source": [
    "\n",
    "import gdown"
   ],
   "id": "c62822ff84e7d8fa",
   "outputs": [],
   "execution_count": 12
  },
  {
   "metadata": {
    "ExecuteTime": {
     "end_time": "2025-07-06T09:45:33.380009Z",
     "start_time": "2025-07-06T09:45:33.374766Z"
    }
   },
   "cell_type": "code",
   "source": "url = \"https://drive.google.com/file/d/1z0mreUtRmR-P-magILsDR3T7M6IkGXtY/view?usp=sharing\"",
   "id": "1d85b7e73db8e72b",
   "outputs": [],
   "execution_count": 13
  },
  {
   "metadata": {
    "ExecuteTime": {
     "end_time": "2025-07-06T09:45:38.960986Z",
     "start_time": "2025-07-06T09:45:38.954830Z"
    }
   },
   "cell_type": "code",
   "source": "type(url)",
   "id": "464f7ed648f422fd",
   "outputs": [
    {
     "data": {
      "text/plain": [
       "str"
      ]
     },
     "execution_count": 14,
     "metadata": {},
     "output_type": "execute_result"
    }
   ],
   "execution_count": 14
  },
  {
   "metadata": {
    "ExecuteTime": {
     "end_time": "2025-07-06T09:45:46.246551Z",
     "start_time": "2025-07-06T09:45:46.241117Z"
    }
   },
   "cell_type": "code",
   "source": [
    "file_id = url.split(\"/\")[-2]\n",
    "file_id"
   ],
   "id": "1632877974037b31",
   "outputs": [
    {
     "data": {
      "text/plain": [
       "'1z0mreUtRmR-P-magILsDR3T7M6IkGXtY'"
      ]
     },
     "execution_count": 15,
     "metadata": {},
     "output_type": "execute_result"
    }
   ],
   "execution_count": 15
  },
  {
   "metadata": {
    "ExecuteTime": {
     "end_time": "2025-07-06T09:46:33.276345Z",
     "start_time": "2025-07-06T09:45:54.069867Z"
    }
   },
   "cell_type": "code",
   "source": [
    "prefix = 'https://drive.google.com/uc?/export=download&id='\n",
    "gdown.download(prefix+file_id, \"Chest-CT-Scan-data.zip\")"
   ],
   "id": "ee2220560084e98f",
   "outputs": [
    {
     "name": "stderr",
     "output_type": "stream",
     "text": [
      "Downloading...\n",
      "From (original): https://drive.google.com/uc?/export=download&id=1z0mreUtRmR-P-magILsDR3T7M6IkGXtY\n",
      "From (redirected): https://drive.google.com/uc?%2Fexport=download&id=1z0mreUtRmR-P-magILsDR3T7M6IkGXtY&confirm=t&uuid=4d49438d-fd22-4851-9dee-0d0836c80934\n",
      "To: C:\\Users\\Ayaz Khan\\Desktop\\Chest-Cancer-Classification\\research\\Chest-CT-Scan-data.zip\n",
      "100%|██████████| 49.0M/49.0M [00:36<00:00, 1.34MB/s]\n"
     ]
    },
    {
     "data": {
      "text/plain": [
       "'Chest-CT-Scan-data.zip'"
      ]
     },
     "execution_count": 16,
     "metadata": {},
     "output_type": "execute_result"
    }
   ],
   "execution_count": 16
  },
  {
   "metadata": {},
   "cell_type": "code",
   "outputs": [],
   "execution_count": null,
   "source": "",
   "id": "ecfbbbad20e327df"
  }
 ],
 "metadata": {},
 "nbformat": 4,
 "nbformat_minor": 5
}
